{
 "cells": [
  {
   "attachments": {},
   "cell_type": "markdown",
   "metadata": {},
   "source": [
    "# Kalli Van Stone "
   ]
  },
  {
   "attachments": {},
   "cell_type": "markdown",
   "metadata": {},
   "source": [
    "## Research question/interests\n",
    "\n",
    "(Kalli) Throughout this project I intend to find out what connections there are between biodiversity richness, factors of climate change, and wellbeing amongst indigenous populations in British Columbia. I am interested in using and building spatial data analysis skills, as I find visual representations of data, especially relating to our relationship to land to be one of the best ways to convey important information in an accessible way. I also hope that I can get more practice working with others to present this type of work and bringing indigenous perspectives to the university and scientific community at large. As an indigenous woman in the data science program here at UBCO this project aligns directly with my values and interests in indigenous data sovereignty, uplifting healthy partnerships and efforts made to work with indigenous peoples, and using data in a way to care for others and the planet. The main questions that have arisen are: Does the amount of biodiversity richness in a smaller area (province of BC vs Brazil, Canada and Australia) align with the patterns seen on the larger scale (that there is more biodiversity in Indigenous managed lands than other types of managed lands), and Does biodiversity richness correspond with wellbeing? Is there greater wellbeing scores in areas with more biodiversity? If indigenous peoples have lower wellbeing indexes and higher biodiversity, who are the beneficiaries of indigenous land stewardship? As time goes on, I am really looking forward to creating a dashboard that helps connect the dots between these datasets that can help inform how we address complex and overlapping challenges relating to indigenous peoples, climate change and wellbeing."
   ]
  },
  {
   "cell_type": "code",
   "execution_count": null,
   "metadata": {},
   "outputs": [],
   "source": [
    "import pandas as pd\n",
    "import numpy as np\n",
    "import matplotlib.pyplot as plt\n",
    "import seaborn as sns"
   ]
  },
  {
   "cell_type": "code",
   "execution_count": null,
   "metadata": {},
   "outputs": [],
   "source": [
    "#The relative path is:\n",
    "df = pd.read_csv('../data/wellbeing_index.csv')\n",
    "\n",
    "# The absolute path is:\n",
    "#df = pd.read_csv('C:\\Users\\inca\\DATA301\\group-project\\project-group33\\data\\wellbeing index.csv'\\'wellbeing index.csv')\n",
    "\n",
    "df.head(10)"
   ]
  },
  {
   "cell_type": "code",
   "execution_count": null,
   "metadata": {},
   "outputs": [],
   "source": [
    "#The relative path is:\n",
    "df2 = pd.read_csv('../data/biodiversity-richness-canada.csv')\n",
    "\n",
    "# The absolute path is:\n",
    "#df2 = pd.read_csv('C:\\Users\\inca\\DATA301\\group-project\\project-group33\\data\\biodiversity-richness-canada.csv'\\'biodiversity-richness-canada')\n",
    "\n",
    "df2.head(10)"
   ]
  }
 ],
 "metadata": {
  "kernelspec": {
   "display_name": "Python 3",
   "language": "python",
   "name": "python3"
  },
  "language_info": {
   "name": "python",
<<<<<<< HEAD
   "version": "3.9.6 (default, Oct 18 2022, 12:41:40) \n[Clang 14.0.0 (clang-1400.0.29.202)]"
=======
   "version": "3.9.12"
>>>>>>> d79f69d (Milestone 3)
  },
  "orig_nbformat": 4,
  "vscode": {
   "interpreter": {
<<<<<<< HEAD
    "hash": "31f2aee4e71d21fbe5cf8b01ff0e069b9275f58929596ceb00d14d90e3e16cd6"
=======
    "hash": "31e74cacef5f0ef2ed9d54e89d0f9aa445fea418a8f8083f22c808ea71c92356"
>>>>>>> d79f69d (Milestone 3)
   }
  }
 },
 "nbformat": 4,
 "nbformat_minor": 2
}
