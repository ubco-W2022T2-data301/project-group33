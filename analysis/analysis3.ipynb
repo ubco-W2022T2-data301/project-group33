{
 "cells": [
  {
   "cell_type": "markdown",
   "metadata": {},
   "source": [
    "# Sarah Quesnelle, 53914140\n"
   ]
  },
  {
   "attachments": {},
   "cell_type": "markdown",
   "metadata": {},
   "source": [
    "### Question 1:\n",
    "\n",
    "- **Has there been a significant change in average Temperature for BC, Canada between the years of 1917 to 2017?**\n",
    "\n",
    "### Question 2:\n",
    "\n",
    "- **Q2: Which Season has seen the greatest change in Temperature over the given years? Winter(January) or Summer(August)**\n",
    "\n",
    "### Question 3:\n",
    "\n",
    "- **Has there been a significant change in the amount of snowfall in Canada since 1917?**"
   ]
  },
  {
   "cell_type": "code",
   "execution_count": 232,
   "metadata": {},
   "outputs": [],
   "source": [
    "import pandas as pd\n",
    "import matplotlib.pyplot as plt\n",
    "import numpy as np\n",
    "import seaborn as sns\n",
    "import math\n",
    "import sys\n",
    "import os\n",
    "from pathlib import Path\n",
    "sys.path.append(\"./code/\")\n",
    "import Project_Functions as ProFun\n",
    "import glob\n",
    "pd.options.display.float_format = '{:.1f}'.format"
   ]
  },
  {
   "attachments": {},
   "cell_type": "markdown",
   "metadata": {},
   "source": [
    "## Testing my Data Cleaning function"
   ]
  },
  {
   "cell_type": "code",
   "execution_count": 233,
   "metadata": {},
   "outputs": [
    {
     "data": {
      "text/html": [
       "<div>\n",
       "<style scoped>\n",
       "    .dataframe tbody tr th:only-of-type {\n",
       "        vertical-align: middle;\n",
       "    }\n",
       "\n",
       "    .dataframe tbody tr th {\n",
       "        vertical-align: top;\n",
       "    }\n",
       "\n",
       "    .dataframe thead th {\n",
       "        text-align: right;\n",
       "    }\n",
       "</style>\n",
       "<table border=\"1\" class=\"dataframe\">\n",
       "  <thead>\n",
       "    <tr style=\"text-align: right;\">\n",
       "      <th></th>\n",
       "      <th>Year</th>\n",
       "      <th>Month</th>\n",
       "      <th>Stn_Name</th>\n",
       "      <th>Prov</th>\n",
       "      <th>Tm</th>\n",
       "      <th>S</th>\n",
       "      <th>P</th>\n",
       "    </tr>\n",
       "  </thead>\n",
       "  <tbody>\n",
       "    <tr>\n",
       "      <th>0</th>\n",
       "      <td>1923</td>\n",
       "      <td>2</td>\n",
       "      <td>BEAR CREEK</td>\n",
       "      <td>BC</td>\n",
       "      <td>NaN</td>\n",
       "      <td>103.1</td>\n",
       "      <td>140.9</td>\n",
       "    </tr>\n",
       "    <tr>\n",
       "      <th>1</th>\n",
       "      <td>1923</td>\n",
       "      <td>2</td>\n",
       "      <td>BEAVER LAKE</td>\n",
       "      <td>BC</td>\n",
       "      <td>NaN</td>\n",
       "      <td>65.6</td>\n",
       "      <td>106.5</td>\n",
       "    </tr>\n",
       "    <tr>\n",
       "      <th>2</th>\n",
       "      <td>1923</td>\n",
       "      <td>2</td>\n",
       "      <td>CHEMAINUS</td>\n",
       "      <td>BC</td>\n",
       "      <td>NaN</td>\n",
       "      <td>103.6</td>\n",
       "      <td>124.9</td>\n",
       "    </tr>\n",
       "    <tr>\n",
       "      <th>3</th>\n",
       "      <td>1923</td>\n",
       "      <td>2</td>\n",
       "      <td>COWICHAN</td>\n",
       "      <td>BC</td>\n",
       "      <td>0.0</td>\n",
       "      <td>84.1</td>\n",
       "      <td>100.2</td>\n",
       "    </tr>\n",
       "    <tr>\n",
       "      <th>4</th>\n",
       "      <td>1923</td>\n",
       "      <td>2</td>\n",
       "      <td>CROFTON</td>\n",
       "      <td>BC</td>\n",
       "      <td>NaN</td>\n",
       "      <td>157.1</td>\n",
       "      <td>175.7</td>\n",
       "    </tr>\n",
       "  </tbody>\n",
       "</table>\n",
       "</div>"
      ],
      "text/plain": [
       "   Year  Month     Stn_Name Prov  Tm     S     P\n",
       "0  1923      2   BEAR CREEK   BC NaN 103.1 140.9\n",
       "1  1923      2  BEAVER LAKE   BC NaN  65.6 106.5\n",
       "2  1923      2    CHEMAINUS   BC NaN 103.6 124.9\n",
       "3  1923      2     COWICHAN   BC 0.0  84.1 100.2\n",
       "4  1923      2      CROFTON   BC NaN 157.1 175.7"
      ]
     },
     "execution_count": 233,
     "metadata": {},
     "output_type": "execute_result"
    }
   ],
   "source": [
    "test_path = '../data/raw/Canada/csv_canada_1923_2.CSV'\n",
    "testdf = ProFun.DataClean(test_path)\n",
    "testdf.head()"
   ]
  },
  {
   "attachments": {},
   "cell_type": "markdown",
   "metadata": {},
   "source": [
    "## Data Cleaning step"
   ]
  },
  {
   "cell_type": "code",
   "execution_count": 210,
   "metadata": {},
   "outputs": [],
   "source": [
    "# merging the files\n",
    "file_path = os.path.join(\"../data/raw/Canada/\", \"csv_canada_*.CSV\")\n",
    "\n",
    "# A list of all joined files is returned\n",
    "list_of_csv = glob.glob(file_path)"
   ]
  },
  {
   "cell_type": "code",
   "execution_count": 211,
   "metadata": {},
   "outputs": [],
   "source": [
    "dflist = []\n",
    "# \n",
    "for file in list_of_csv:\n",
    "    df = ProFun.DataClean(file)\n",
    "    dflist.append(df)\n",
    "\n",
    "Candf = pd.concat(dflist)"
   ]
  },
  {
   "attachments": {},
   "cell_type": "markdown",
   "metadata": {},
   "source": [
    "## Save my Dataframe as a csv"
   ]
  },
  {
   "cell_type": "code",
   "execution_count": 188,
   "metadata": {},
   "outputs": [],
   "source": [
    "save_path = \"../data/processed/Canada/CanTempDf.csv\"\n",
    "Candf.to_csv(save_path, index=False)"
   ]
  },
  {
   "attachments": {},
   "cell_type": "markdown",
   "metadata": {},
   "source": [
    "## Initial Data Analysis"
   ]
  },
  {
   "cell_type": "code",
   "execution_count": 231,
   "metadata": {},
   "outputs": [
    {
     "data": {
      "text/html": [
       "<div>\n",
       "<style scoped>\n",
       "    .dataframe tbody tr th:only-of-type {\n",
       "        vertical-align: middle;\n",
       "    }\n",
       "\n",
       "    .dataframe tbody tr th {\n",
       "        vertical-align: top;\n",
       "    }\n",
       "\n",
       "    .dataframe thead th {\n",
       "        text-align: right;\n",
       "    }\n",
       "</style>\n",
       "<table border=\"1\" class=\"dataframe\">\n",
       "  <thead>\n",
       "    <tr style=\"text-align: right;\">\n",
       "      <th></th>\n",
       "      <th>Year</th>\n",
       "      <th>Month</th>\n",
       "      <th>Stn_Name</th>\n",
       "      <th>Prov</th>\n",
       "      <th>Tm</th>\n",
       "      <th>S</th>\n",
       "      <th>P</th>\n",
       "    </tr>\n",
       "  </thead>\n",
       "  <tbody>\n",
       "    <tr>\n",
       "      <th>0</th>\n",
       "      <td>1917</td>\n",
       "      <td>1</td>\n",
       "      <td>BEAR CREEK</td>\n",
       "      <td>BC</td>\n",
       "      <td>NaN</td>\n",
       "      <td>104</td>\n",
       "      <td>415</td>\n",
       "    </tr>\n",
       "    <tr>\n",
       "      <th>1</th>\n",
       "      <td>1917</td>\n",
       "      <td>1</td>\n",
       "      <td>BEAVER LAKE</td>\n",
       "      <td>BC</td>\n",
       "      <td>NaN</td>\n",
       "      <td>43</td>\n",
       "      <td>122</td>\n",
       "    </tr>\n",
       "    <tr>\n",
       "      <th>2</th>\n",
       "      <td>1917</td>\n",
       "      <td>1</td>\n",
       "      <td>COWICHAN</td>\n",
       "      <td>BC</td>\n",
       "      <td>1</td>\n",
       "      <td>55</td>\n",
       "      <td>115</td>\n",
       "    </tr>\n",
       "    <tr>\n",
       "      <th>3</th>\n",
       "      <td>1917</td>\n",
       "      <td>1</td>\n",
       "      <td>COWICHAN BAY CHERRY POINT</td>\n",
       "      <td>BC</td>\n",
       "      <td>1</td>\n",
       "      <td>24</td>\n",
       "      <td>88</td>\n",
       "    </tr>\n",
       "    <tr>\n",
       "      <th>4</th>\n",
       "      <td>1917</td>\n",
       "      <td>1</td>\n",
       "      <td>GOLDSTREAM LAKE</td>\n",
       "      <td>BC</td>\n",
       "      <td>NaN</td>\n",
       "      <td>109</td>\n",
       "      <td>224</td>\n",
       "    </tr>\n",
       "  </tbody>\n",
       "</table>\n",
       "</div>"
      ],
      "text/plain": [
       "   Year  Month                   Stn_Name Prov  Tm   S   P\n",
       "0  1917      1                 BEAR CREEK   BC NaN 104 415\n",
       "1  1917      1                BEAVER LAKE   BC NaN  43 122\n",
       "2  1917      1                   COWICHAN   BC   1  55 115\n",
       "3  1917      1  COWICHAN BAY CHERRY POINT   BC   1  24  88\n",
       "4  1917      1            GOLDSTREAM LAKE   BC NaN 109 224"
      ]
     },
     "execution_count": 231,
     "metadata": {},
     "output_type": "execute_result"
    }
   ],
   "source": [
    "CanTempDf = pd.read_csv(\"../data/processed/Canada/CanTempDf.csv\")\n",
    "\n",
    "CanTempDf.head()"
   ]
  },
  {
   "cell_type": "code",
   "execution_count": 212,
   "metadata": {},
   "outputs": [
    {
     "data": {
      "text/plain": [
       "array(['BC', 'YT', 'NT', 'AB', 'SK', 'MB', 'ON', 'QC', 'NB', 'NS', 'PE',\n",
       "       'NL', 'NU', 'XX'], dtype=object)"
      ]
     },
     "execution_count": 212,
     "metadata": {},
     "output_type": "execute_result"
    }
   ],
   "source": [
    "CanTempDf['Prov'].unique()"
   ]
  },
  {
   "cell_type": "code",
   "execution_count": 213,
   "metadata": {},
   "outputs": [
    {
     "data": {
      "text/plain": [
       "array([ 1, 10, 11, 12,  2,  3,  4,  5,  6,  7,  8,  9], dtype=int64)"
      ]
     },
     "execution_count": 213,
     "metadata": {},
     "output_type": "execute_result"
    }
   ],
   "source": [
    "CanTempDf['Month'].unique()"
   ]
  },
  {
   "cell_type": "code",
   "execution_count": 230,
   "metadata": {},
   "outputs": [
    {
     "data": {
      "text/plain": [
       "array([1917, 1918, 1919, 1920, 1921, 1922, 1923, 1924, 1925, 1926, 1927,\n",
       "       1928, 1929, 1930, 1931, 1932, 1933, 1934, 1935, 1936, 1937, 1938,\n",
       "       1939, 1940, 1941, 1942, 1943, 1944, 1945, 1946, 1947, 1948, 1949,\n",
       "       1950, 1951, 1952, 1953, 1954, 1955, 1956, 1957, 1958, 1959, 1960,\n",
       "       1961, 1962, 1963, 1964, 1965, 1966, 1967, 1968, 1969, 1970, 1971,\n",
       "       1972, 1973, 1974, 1975, 1976, 1977, 1978, 1979, 1980, 1981, 1982,\n",
       "       1983, 1984, 1985, 1986, 1987, 1988, 1989, 1990, 1991, 1992, 1993,\n",
       "       1994, 1995, 1996, 1997, 1998, 1999, 2000, 2001, 2002, 2003, 2004,\n",
       "       2005, 2006, 2007, 2008, 2009, 2010, 2011, 2012, 2013, 2014, 2015,\n",
       "       2016, 2017], dtype=int64)"
      ]
     },
     "execution_count": 230,
     "metadata": {},
     "output_type": "execute_result"
    }
   ],
   "source": [
    "CanTempDf['Year'].unique()"
   ]
  },
  {
   "cell_type": "code",
   "execution_count": 234,
   "metadata": {},
   "outputs": [
    {
     "data": {
      "text/html": [
       "<div>\n",
       "<style scoped>\n",
       "    .dataframe tbody tr th:only-of-type {\n",
       "        vertical-align: middle;\n",
       "    }\n",
       "\n",
       "    .dataframe tbody tr th {\n",
       "        vertical-align: top;\n",
       "    }\n",
       "\n",
       "    .dataframe thead th {\n",
       "        text-align: right;\n",
       "    }\n",
       "</style>\n",
       "<table border=\"1\" class=\"dataframe\">\n",
       "  <thead>\n",
       "    <tr style=\"text-align: right;\">\n",
       "      <th></th>\n",
       "      <th>Year</th>\n",
       "      <th>Month</th>\n",
       "      <th>Tm</th>\n",
       "      <th>S</th>\n",
       "      <th>P</th>\n",
       "    </tr>\n",
       "  </thead>\n",
       "  <tbody>\n",
       "    <tr>\n",
       "      <th>count</th>\n",
       "      <td>1835898.0</td>\n",
       "      <td>1835898.0</td>\n",
       "      <td>1521092.0</td>\n",
       "      <td>1666018.0</td>\n",
       "      <td>1775950.0</td>\n",
       "    </tr>\n",
       "    <tr>\n",
       "      <th>mean</th>\n",
       "      <td>1975.8</td>\n",
       "      <td>6.5</td>\n",
       "      <td>3.8</td>\n",
       "      <td>14.4</td>\n",
       "      <td>69.6</td>\n",
       "    </tr>\n",
       "    <tr>\n",
       "      <th>std</th>\n",
       "      <td>24.4</td>\n",
       "      <td>3.4</td>\n",
       "      <td>11.4</td>\n",
       "      <td>25.6</td>\n",
       "      <td>67.6</td>\n",
       "    </tr>\n",
       "    <tr>\n",
       "      <th>min</th>\n",
       "      <td>1917.0</td>\n",
       "      <td>1.0</td>\n",
       "      <td>-50.0</td>\n",
       "      <td>-3.0</td>\n",
       "      <td>-1.0</td>\n",
       "    </tr>\n",
       "    <tr>\n",
       "      <th>25%</th>\n",
       "      <td>1960.0</td>\n",
       "      <td>4.0</td>\n",
       "      <td>-4.3</td>\n",
       "      <td>0.0</td>\n",
       "      <td>25.4</td>\n",
       "    </tr>\n",
       "    <tr>\n",
       "      <th>50%</th>\n",
       "      <td>1978.0</td>\n",
       "      <td>7.0</td>\n",
       "      <td>5.6</td>\n",
       "      <td>0.8</td>\n",
       "      <td>54.4</td>\n",
       "    </tr>\n",
       "    <tr>\n",
       "      <th>75%</th>\n",
       "      <td>1995.0</td>\n",
       "      <td>9.0</td>\n",
       "      <td>13.3</td>\n",
       "      <td>19.8</td>\n",
       "      <td>92.8</td>\n",
       "    </tr>\n",
       "    <tr>\n",
       "      <th>max</th>\n",
       "      <td>2017.0</td>\n",
       "      <td>12.0</td>\n",
       "      <td>27.9</td>\n",
       "      <td>725.9</td>\n",
       "      <td>999.3</td>\n",
       "    </tr>\n",
       "  </tbody>\n",
       "</table>\n",
       "</div>"
      ],
      "text/plain": [
       "           Year     Month        Tm         S         P\n",
       "count 1835898.0 1835898.0 1521092.0 1666018.0 1775950.0\n",
       "mean     1975.8       6.5       3.8      14.4      69.6\n",
       "std        24.4       3.4      11.4      25.6      67.6\n",
       "min      1917.0       1.0     -50.0      -3.0      -1.0\n",
       "25%      1960.0       4.0      -4.3       0.0      25.4\n",
       "50%      1978.0       7.0       5.6       0.8      54.4\n",
       "75%      1995.0       9.0      13.3      19.8      92.8\n",
       "max      2017.0      12.0      27.9     725.9     999.3"
      ]
     },
     "execution_count": 234,
     "metadata": {},
     "output_type": "execute_result"
    }
   ],
   "source": [
    "CanTempDf.describe(include=np.number)"
   ]
  },
  {
   "cell_type": "code",
   "execution_count": 216,
   "metadata": {},
   "outputs": [
    {
     "data": {
      "text/html": [
       "<div>\n",
       "<style scoped>\n",
       "    .dataframe tbody tr th:only-of-type {\n",
       "        vertical-align: middle;\n",
       "    }\n",
       "\n",
       "    .dataframe tbody tr th {\n",
       "        vertical-align: top;\n",
       "    }\n",
       "\n",
       "    .dataframe thead th {\n",
       "        text-align: right;\n",
       "    }\n",
       "</style>\n",
       "<table border=\"1\" class=\"dataframe\">\n",
       "  <thead>\n",
       "    <tr style=\"text-align: right;\">\n",
       "      <th></th>\n",
       "      <th>Stn_Name</th>\n",
       "      <th>Prov</th>\n",
       "    </tr>\n",
       "  </thead>\n",
       "  <tbody>\n",
       "    <tr>\n",
       "      <th>count</th>\n",
       "      <td>1835898</td>\n",
       "      <td>1835898</td>\n",
       "    </tr>\n",
       "    <tr>\n",
       "      <th>unique</th>\n",
       "      <td>7651</td>\n",
       "      <td>14</td>\n",
       "    </tr>\n",
       "    <tr>\n",
       "      <th>top</th>\n",
       "      <td>WOODSTOCK</td>\n",
       "      <td>BC</td>\n",
       "    </tr>\n",
       "    <tr>\n",
       "      <th>freq</th>\n",
       "      <td>2298</td>\n",
       "      <td>387119</td>\n",
       "    </tr>\n",
       "  </tbody>\n",
       "</table>\n",
       "</div>"
      ],
      "text/plain": [
       "         Stn_Name     Prov\n",
       "count     1835898  1835898\n",
       "unique       7651       14\n",
       "top     WOODSTOCK       BC\n",
       "freq         2298   387119"
      ]
     },
     "execution_count": 216,
     "metadata": {},
     "output_type": "execute_result"
    }
   ],
   "source": [
    "CanTempDf.describe(exclude=np.number)"
   ]
  },
  {
   "cell_type": "code",
   "execution_count": 235,
   "metadata": {},
   "outputs": [
    {
     "data": {
      "text/html": [
       "<div>\n",
       "<style scoped>\n",
       "    .dataframe tbody tr th:only-of-type {\n",
       "        vertical-align: middle;\n",
       "    }\n",
       "\n",
       "    .dataframe tbody tr th {\n",
       "        vertical-align: top;\n",
       "    }\n",
       "\n",
       "    .dataframe thead th {\n",
       "        text-align: right;\n",
       "    }\n",
       "</style>\n",
       "<table border=\"1\" class=\"dataframe\">\n",
       "  <thead>\n",
       "    <tr style=\"text-align: right;\">\n",
       "      <th></th>\n",
       "      <th>Prov</th>\n",
       "      <th>Year</th>\n",
       "      <th>Month</th>\n",
       "      <th>Stn_Name</th>\n",
       "      <th>Tm</th>\n",
       "      <th>S</th>\n",
       "      <th>P</th>\n",
       "    </tr>\n",
       "  </thead>\n",
       "  <tbody>\n",
       "    <tr>\n",
       "      <th>0</th>\n",
       "      <td>NB</td>\n",
       "      <td>1096</td>\n",
       "      <td>1096</td>\n",
       "      <td>1096</td>\n",
       "      <td>1085</td>\n",
       "      <td>1090</td>\n",
       "      <td>1089</td>\n",
       "    </tr>\n",
       "    <tr>\n",
       "      <th>1</th>\n",
       "      <td>ON</td>\n",
       "      <td>1202</td>\n",
       "      <td>1202</td>\n",
       "      <td>1202</td>\n",
       "      <td>1199</td>\n",
       "      <td>1201</td>\n",
       "      <td>1200</td>\n",
       "    </tr>\n",
       "  </tbody>\n",
       "</table>\n",
       "</div>"
      ],
      "text/plain": [
       "  Prov  Year  Month  Stn_Name    Tm     S     P\n",
       "0   NB  1096   1096      1096  1085  1090  1089\n",
       "1   ON  1202   1202      1202  1199  1201  1200"
      ]
     },
     "execution_count": 235,
     "metadata": {},
     "output_type": "execute_result"
    }
   ],
   "source": [
    "CanTempDf[CanTempDf['Stn_Name'] == 'WOODSTOCK'].groupby('Prov').count().reset_index()"
   ]
  },
  {
   "attachments": {},
   "cell_type": "markdown",
   "metadata": {},
   "source": [
    "## Observations on Initial Analysis\n",
    "\n",
    "- There are 13 Provinces in this dataset, 12 of which are valid Canadian Provinces. The 13th Province is labelled as \"XX\". I am assuming this is a place holder for temperature data that was not assigned a Province value.\n",
    "- There are 12 unique months of each year given in this dataset. January = 1, February = 2, ..., December = 12.\n",
    "-  There are 101 unique years ranging from 1917 to 2017.\n",
    "- There are 7651 unique Stations scattered around Canada. The most popular station is Woodstock. Woodstock, Ontario has had 1202 temperature readings within the given years and Woodstock, New Brunswick has had 1096 temperature readings. The most popular Province is BC.\n",
    "- \n",
    "- \n",
    "- "
   ]
  },
  {
   "attachments": {},
   "cell_type": "markdown",
   "metadata": {},
   "source": [
    "## Exploratory Data Analysis"
   ]
  },
  {
   "cell_type": "code",
   "execution_count": null,
   "metadata": {},
   "outputs": [],
   "source": []
  }
 ],
 "metadata": {
  "kernelspec": {
   "display_name": "base",
   "language": "python",
   "name": "python3"
  },
  "language_info": {
   "codemirror_mode": {
    "name": "ipython",
    "version": 3
   },
   "file_extension": ".py",
   "mimetype": "text/x-python",
   "name": "python",
   "nbconvert_exporter": "python",
   "pygments_lexer": "ipython3",
   "version": "3.9.16"
  },
  "orig_nbformat": 4
 },
 "nbformat": 4,
 "nbformat_minor": 2
}
